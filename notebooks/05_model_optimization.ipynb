{
 "cells": [
  {
   "cell_type": "code",
   "execution_count": null,
   "metadata": {},
   "outputs": [],
   "source": [
    "from sklearn.model_selection import GridSearchCV\n",
    "\n",
    "# Définir les paramètres à tester\n",
    "param_grid = {\n",
    "    'n_estimators': [100, 200, 300],\n",
    "    'max_depth': [None, 10, 20, 30]\n",
    "}\n",
    "\n",
    "# GridSearchCV pour trouver les meilleurs paramètres\n",
    "grid_search = GridSearchCV(estimator=RandomForestClassifier(), param_grid=param_grid, cv=3, n_jobs=-1)\n",
    "grid_search.fit(X_train, y_train)\n",
    "\n",
    "# Meilleurs paramètres\n",
    "print(f'Best parameters: {grid_search.best_params_}')\n",
    "best_model = grid_search.best_estimator_\n",
    "\n",
    "# Évaluer le meilleur modèle\n",
    "y_pred = best_model.predict(X_val)\n",
    "accuracy = accuracy_score(y_val, y_pred)\n",
    "print(f'Validation Accuracy: {accuracy}')\n",
    "\n",
    "# Sauvegarder le modèle optimisé\n",
    "joblib.dump(best_model, 'models/optimized_random_forest_model.pkl')\n"
   ]
  }
 ],
 "metadata": {
  "language_info": {
   "name": "python"
  }
 },
 "nbformat": 4,
 "nbformat_minor": 2
}
