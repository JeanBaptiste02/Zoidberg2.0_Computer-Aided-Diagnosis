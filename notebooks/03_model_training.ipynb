{
 "cells": [
  {
   "cell_type": "code",
   "execution_count": null,
   "metadata": {},
   "outputs": [],
   "source": [
    "# Importer les bibliothèques nécessaires\n",
    "from sklearn.ensemble import RandomForestClassifier\n",
    "from sklearn.svm import SVC\n",
    "from sklearn.metrics import accuracy_score\n",
    "\n",
    "# Charger les ensembles de données\n",
    "X_train = np.load('data/X_train.npy').reshape(len(X_train), -1)  # Aplatir les images\n",
    "y_train = np.load('data/y_train.npy')\n",
    "X_val = np.load('data/X_val.npy').reshape(len(X_val), -1)\n",
    "y_val = np.load('data/y_val.npy')\n",
    "\n",
    "# Entraîner un modèle de forêt aléatoire\n",
    "rf_model = RandomForestClassifier()\n",
    "rf_model.fit(X_train, y_train)\n",
    "\n",
    "# Évaluer le modèle\n",
    "y_pred = rf_model.predict(X_val)\n",
    "accuracy = accuracy_score(y_val, y_pred)\n",
    "print(f'Accuracy: {accuracy}')\n",
    "\n",
    "# Sauvegarder le modèle\n",
    "import joblib\n",
    "joblib.dump(rf_model, 'models/random_forest_model.pkl')\n"
   ]
  }
 ],
 "metadata": {
  "language_info": {
   "name": "python"
  }
 },
 "nbformat": 4,
 "nbformat_minor": 2
}
