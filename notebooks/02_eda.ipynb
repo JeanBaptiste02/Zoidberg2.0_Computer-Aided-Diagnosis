{
 "cells": [
  {
   "cell_type": "code",
   "execution_count": null,
   "metadata": {},
   "outputs": [],
   "source": [
    "# Charger les ensembles de données\n",
    "X_train = np.load('data/X_train.npy')\n",
    "y_train = np.load('data/y_train.npy')\n",
    "\n",
    "# Visualiser des exemples d'images\n",
    "plt.figure(figsize=(10, 10))\n",
    "for i in range(9):\n",
    "    plt.subplot(3, 3, i+1)\n",
    "    plt.imshow(X_train[i].reshape(128, 128), cmap='gray')\n",
    "    plt.title(f\"Label: {label_encoder.inverse_transform([y_train[i]])[0]}\")\n",
    "    plt.axis('off')\n",
    "plt.show()\n",
    "\n",
    "# Distribution des classes\n",
    "import seaborn as sns\n",
    "\n",
    "sns.countplot(x=label_encoder.inverse_transform(y_train))\n",
    "plt.title('Distribution des classes dans l\\'ensemble d\\'entraînement')\n",
    "plt.xticks(rotation=90)\n",
    "plt.show()\n"
   ]
  }
 ],
 "metadata": {
  "language_info": {
   "name": "python"
  }
 },
 "nbformat": 4,
 "nbformat_minor": 2
}
