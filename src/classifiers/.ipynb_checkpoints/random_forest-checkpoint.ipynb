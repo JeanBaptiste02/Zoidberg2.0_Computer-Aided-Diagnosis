{
 "cells": [
  {
   "cell_type": "code",
   "execution_count": 14,
   "id": "81c4cb6a-d710-42b7-8ba5-44f01f4d18a7",
   "metadata": {},
   "outputs": [],
   "source": [
    "import numpy as np\n",
    "import matplotlib.pyplot as plt\n",
    "import cv2\n",
    "import os\n",
    "import tensorflow as tf\n",
    "from tensorflow.keras.preprocessing.image import ImageDataGenerator\n",
    "from sklearn.ensemble import RandomForestClassifier\n",
    "from sklearn.model_selection import train_test_split, RandomizedSearchCV, KFold\n",
    "from sklearn.metrics import classification_report, confusion_matrix, roc_curve, auc\n",
    "import seaborn as sns\n",
    "import time\n",
    "from sklearn.preprocessing import StandardScaler"
   ]
  },
  {
   "cell_type": "code",
   "execution_count": 16,
   "id": "a8bb7a6e-664e-4584-b231-839e2f4a7272",
   "metadata": {},
   "outputs": [
    {
     "name": "stdout",
     "output_type": "stream",
     "text": [
      "parameters defined\n"
     ]
    }
   ],
   "source": [
    "img_size = 256\n",
    "data_dir1 = '../../../chest_xray/train/PNEUMONIA'\n",
    "data_dir2 = '../../../chest_xray/train/NORMAL'\n",
    "batch_size = 16\n",
    "epochs = 20\n",
    "\n",
    "print(\"parameters defined\")"
   ]
  },
  {
   "cell_type": "code",
   "execution_count": 18,
   "id": "ff32986e-a543-4705-9497-36af7ed07be0",
   "metadata": {},
   "outputs": [
    {
     "name": "stdout",
     "output_type": "stream",
     "text": [
      "Chargement des données...\n",
      "Le répertoire ../../../chest_xray/train/PNEUMONIA n'existe pas\n",
      "Le répertoire ../../../chest_xray/train/NORMAL n'existe pas\n",
      "Chargement des données terminé.\n"
     ]
    }
   ],
   "source": [
    "# Prétraitement des Données\n",
    "def load_data(data_dir1, data_dir2, limit=100):\n",
    "    print(\"Chargement des données...\")\n",
    "    data = []\n",
    "    labels = ['PNEUMONIA', 'NORMAL']\n",
    "    for dir in [data_dir1, data_dir2]:\n",
    "        path = os.path.join(dir)\n",
    "        if not os.path.exists(path):\n",
    "            print(f\"Le répertoire {path} n'existe pas\")\n",
    "            continue\n",
    "        label = os.path.basename(dir)\n",
    "        class_num = labels.index(label)\n",
    "        for i, img in enumerate(os.listdir(path)):\n",
    "            if i >= limit:\n",
    "                break\n",
    "            try:\n",
    "                img_arr = cv2.imread(os.path.join(path, img), cv2.IMREAD_GRAYSCALE)\n",
    "                if img_arr is None:\n",
    "                    print(f\"Impossible de lire {img}. Ignoré.\")\n",
    "                    continue\n",
    "                resized_arr = cv2.resize(img_arr, (img_size, img_size))\n",
    "                data.append([resized_arr, class_num])\n",
    "            except Exception as e:\n",
    "                print(e)\n",
    "    print(\"Chargement des données terminé.\")\n",
    "    return np.array(data, dtype=object)\n",
    "\n",
    "train_data = load_data(data_dir1, data_dir2, limit=100)"
   ]
  },
  {
   "cell_type": "code",
   "execution_count": null,
   "id": "c50ba740-1eef-4e4b-a5ff-ddb2f56d547f",
   "metadata": {},
   "outputs": [],
   "source": []
  }
 ],
 "metadata": {
  "kernelspec": {
   "display_name": "Python 3 (ipykernel)",
   "language": "python",
   "name": "python3"
  },
  "language_info": {
   "codemirror_mode": {
    "name": "ipython",
    "version": 3
   },
   "file_extension": ".py",
   "mimetype": "text/x-python",
   "name": "python",
   "nbconvert_exporter": "python",
   "pygments_lexer": "ipython3",
   "version": "3.11.7"
  }
 },
 "nbformat": 4,
 "nbformat_minor": 5
}
