{
 "cells": [
  {
   "cell_type": "code",
   "execution_count": 47,
   "metadata": {},
   "outputs": [
    {
     "data": {
      "image/png": "[encoded data removed]",
      "text/plain": [
       "<Figure size 1000x1000 with 5 Axes>"
      ]
     },
     "metadata": {},
     "output_type": "display_data"
    },
    {
     "name": "stdout",
     "output_type": "stream",
     "text": [
      "Contrast augmentation complete.\n"
     ]
    }
   ],
   "source": [
    "# Import necessary libraries\n",
    "import numpy as np\n",
    "import matplotlib.pyplot as plt\n",
    "import cv2\n",
    "import os\n",
    "from tensorflow.keras.preprocessing.image import ImageDataGenerator\n",
    "\n",
    "# Define constants\n",
    "img_size = 150\n",
    "data_dir1 = '../../../chest_xray/train/PNEUMONIA'\n",
    "data_dir2 = '../../../chest_xray/train/NORMAL'\n",
    "\n",
    "# Function to load data\n",
    "def load_data(data_dir1, data_dir2):\n",
    "    data = []\n",
    "    \n",
    "    # Load data for PNEUMONIA class\n",
    "    for img in os.listdir(data_dir1):\n",
    "        try:\n",
    "            img_arr = cv2.imread(os.path.join(data_dir1, img), cv2.IMREAD_GRAYSCALE)\n",
    "            if img_arr is None:\n",
    "                print(f\"Failed to read {img}. Skipping.\")\n",
    "                continue\n",
    "            resized_arr = cv2.resize(img_arr, (img_size, img_size))\n",
    "            data.append([resized_arr, 0])  # 0 represents PNEUMONIA class\n",
    "        except Exception as e:\n",
    "            print(e)\n",
    "    \n",
    "    # Load data for NORMAL class\n",
    "    for img in os.listdir(data_dir2):\n",
    "        try:\n",
    "            img_arr = cv2.imread(os.path.join(data_dir2, img), cv2.IMREAD_GRAYSCALE)\n",
    "            if img_arr is None:\n",
    "                print(f\"Failed to read {img}. Skipping.\")\n",
    "                continue\n",
    "            resized_arr = cv2.resize(img_arr, (img_size, img_size))\n",
    "            data.append([resized_arr, 1])  # 1 represents NORMAL class\n",
    "        except Exception as e:\n",
    "            print(e)\n",
    "    \n",
    "    return np.array(data, dtype=object)\n",
    "\n",
    "train_data = load_data(data_dir1, data_dir2)\n",
    "\n",
    "# Separate features and labels\n",
    "def separate_features_labels(data):\n",
    "    features, labels = [], []\n",
    "    for feature, label in data:\n",
    "        features.append(feature)\n",
    "        labels.append(label)\n",
    "    return np.array(features), np.array(labels)\n",
    "\n",
    "x_train, y_train = separate_features_labels(train_data)\n",
    "\n",
    "# Normalize the data\n",
    "x_train = x_train / 255.0\n",
    "x_train = x_train.reshape(-1, img_size, img_size, 1)\n",
    "\n",
    "# Ensure data is not empty\n",
    "if x_train.size == 0 or y_train.size == 0:\n",
    "    print(\"Training data is empty. Please check the data loading process.\")\n",
    "else:\n",
    "    # Data augmentation - contrast\n",
    "    datagen = ImageDataGenerator(\n",
    "        rescale=1.0/255.0,\n",
    "        brightness_range=[0.2, 1.0]\n",
    "    )\n",
    "\n",
    "    datagen.fit(x_train)\n",
    "\n",
    "    # Display some augmented images\n",
    "    def display_augmented_images(datagen, x_train, y_train):\n",
    "        plt.figure(figsize=(10, 10))\n",
    "        for x_batch, y_batch in datagen.flow(x_train, y_train, batch_size=5):\n",
    "            for i in range(0, 5):\n",
    "                if i >= len(x_batch):\n",
    "                    print(\"Batch size is smaller than expected.\")\n",
    "                    break\n",
    "                plt.subplot(330 + 1 + i)\n",
    "                plt.xticks([])\n",
    "                plt.yticks([])\n",
    "                plt.imshow(x_batch[i].reshape(img_size, img_size), cmap='gray')\n",
    "            break\n",
    "        plt.show()\n",
    "\n",
    "    display_augmented_images(datagen, x_train, y_train)\n",
    "\n",
    "    print(\"Contrast augmentation complete.\")"
   ]
  },
  {
   "cell_type": "code",
   "execution_count": null,
   "metadata": {},
   "outputs": [],
   "source": []
  }
 ],
 "metadata": {
  "kernelspec": {
   "display_name": "Python 3 (ipykernel)",
   "language": "python",
   "name": "python3"
  },
  "language_info": {
   "codemirror_mode": {
    "name": "ipython",
    "version": 3
   },
   "file_extension": ".py",
   "mimetype": "text/x-python",
   "name": "python",
   "nbconvert_exporter": "python",
   "pygments_lexer": "ipython3",
   "version": "3.11.7"
  }
 },
 "nbformat": 4,
 "nbformat_minor": 4
}
