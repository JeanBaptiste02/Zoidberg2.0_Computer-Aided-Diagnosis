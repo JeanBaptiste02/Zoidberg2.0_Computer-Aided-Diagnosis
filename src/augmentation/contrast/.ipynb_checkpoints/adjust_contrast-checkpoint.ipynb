{
 "cells": [
  {
   "cell_type": "code",
   "execution_count": 6,
   "metadata": {},
   "outputs": [
    {
     "ename": "FileNotFoundError",
     "evalue": "[WinError 3] Le chemin d’accès spécifié est introuvable: '../../chest_xray/train\\\\PNEUMONIA'",
     "output_type": "error",
     "traceback": [
      "\u001b[1;31m---------------------------------------------------------------------------\u001b[0m",
      "\u001b[1;31mFileNotFoundError\u001b[0m                         Traceback (most recent call last)",
      "Cell \u001b[1;32mIn[6], line 28\u001b[0m\n\u001b[0;32m     25\u001b[0m                 \u001b[38;5;28mprint\u001b[39m(e)\n\u001b[0;32m     26\u001b[0m     \u001b[38;5;28;01mreturn\u001b[39;00m np\u001b[38;5;241m.\u001b[39marray(data, dtype\u001b[38;5;241m=\u001b[39m\u001b[38;5;28mobject\u001b[39m)\n\u001b[1;32m---> 28\u001b[0m train_data \u001b[38;5;241m=\u001b[39m load_data(data_dir)\n\u001b[0;32m     30\u001b[0m \u001b[38;5;66;03m# Separate features and labels\u001b[39;00m\n\u001b[0;32m     31\u001b[0m \u001b[38;5;28;01mdef\u001b[39;00m \u001b[38;5;21mseparate_features_labels\u001b[39m(data):\n",
      "Cell \u001b[1;32mIn[6], line 19\u001b[0m, in \u001b[0;36mload_data\u001b[1;34m(data_dir)\u001b[0m\n\u001b[0;32m     17\u001b[0m path \u001b[38;5;241m=\u001b[39m os\u001b[38;5;241m.\u001b[39mpath\u001b[38;5;241m.\u001b[39mjoin(data_dir, label)\n\u001b[0;32m     18\u001b[0m class_num \u001b[38;5;241m=\u001b[39m labels\u001b[38;5;241m.\u001b[39mindex(label)\n\u001b[1;32m---> 19\u001b[0m \u001b[38;5;28;01mfor\u001b[39;00m img \u001b[38;5;129;01min\u001b[39;00m os\u001b[38;5;241m.\u001b[39mlistdir(path):\n\u001b[0;32m     20\u001b[0m     \u001b[38;5;28;01mtry\u001b[39;00m:\n\u001b[0;32m     21\u001b[0m         img_arr \u001b[38;5;241m=\u001b[39m cv2\u001b[38;5;241m.\u001b[39mimread(os\u001b[38;5;241m.\u001b[39mpath\u001b[38;5;241m.\u001b[39mjoin(path, img), cv2\u001b[38;5;241m.\u001b[39mIMREAD_GRAYSCALE)\n",
      "\u001b[1;31mFileNotFoundError\u001b[0m: [WinError 3] Le chemin d’accès spécifié est introuvable: '../../chest_xray/train\\\\PNEUMONIA'"
     ]
    }
   ],
   "source": [
    "# Import necessary libraries\n",
    "import numpy as np\n",
    "import matplotlib.pyplot as plt\n",
    "import cv2\n",
    "import os\n",
    "from tensorflow.keras.preprocessing.image import ImageDataGenerator\n",
    "\n",
    "# Define constants\n",
    "img_size = 150\n",
    "labels = ['PNEUMONIA', 'NORMAL']\n",
    "data_dir = '../../chest_xray/train'\n",
    "\n",
    "# Function to load data\n",
    "def load_data(data_dir):\n",
    "    data = []\n",
    "    for label in labels:\n",
    "        path = os.path.join(data_dir, label)\n",
    "        class_num = labels.index(label)\n",
    "        for img in os.listdir(path):\n",
    "            try:\n",
    "                img_arr = cv2.imread(os.path.join(path, img), cv2.IMREAD_GRAYSCALE)\n",
    "                resized_arr = cv2.resize(img_arr, (img_size, img_size))\n",
    "                data.append([resized_arr, class_num])\n",
    "            except Exception as e:\n",
    "                print(e)\n",
    "    return np.array(data, dtype=object)\n",
    "\n",
    "train_data = load_data(data_dir)\n",
    "\n",
    "# Separate features and labels\n",
    "def separate_features_labels(data):\n",
    "    features, labels = [], []\n",
    "    for feature, label in data:\n",
    "        features.append(feature)\n",
    "        labels.append(label)\n",
    "    return np.array(features), np.array(labels)\n",
    "\n",
    "x_train, y_train = separate_features_labels(train_data)\n",
    "\n",
    "# Normalize the data\n",
    "x_train = x_train / 255.0\n",
    "x_train = x_train.reshape(-1, img_size, img_size, 1)\n",
    "\n",
    "# Data augmentation - contrast\n",
    "datagen = ImageDataGenerator(\n",
    "    rescale=1.0/255.0,\n",
    "    brightness_range=[0.2, 1.0]\n",
    ")\n",
    "\n",
    "datagen.fit(x_train)\n",
    "\n",
    "# Display some augmented images\n",
    "def display_augmented_images(datagen, x_train, y_train):\n",
    "    plt.figure(figsize=(10, 10))\n",
    "    for x_batch, y_batch in datagen.flow(x_train, y_train, batch_size=5):\n",
    "        for i in range(0, 5):\n",
    "            plt.subplot(330 + 1 + i)\n",
    "            plt.xticks([])\n",
    "            plt.yticks([])\n",
    "            plt.imshow(x_batch[i].reshape(img_size, img_size), cmap='gray')\n",
    "        break\n",
    "    plt.show()\n",
    "\n",
    "display_augmented_images(datagen, x_train, y_train)\n",
    "\n",
    "print(\"Contrast augmentation complete.\")\n"
   ]
  }
 ],
 "metadata": {
  "kernelspec": {
   "display_name": "Python 3 (ipykernel)",
   "language": "python",
   "name": "python3"
  },
  "language_info": {
   "codemirror_mode": {
    "name": "ipython",
    "version": 3
   },
   "file_extension": ".py",
   "mimetype": "text/x-python",
   "name": "python",
   "nbconvert_exporter": "python",
   "pygments_lexer": "ipython3",
   "version": "3.11.7"
  }
 },
 "nbformat": 4,
 "nbformat_minor": 4
}
