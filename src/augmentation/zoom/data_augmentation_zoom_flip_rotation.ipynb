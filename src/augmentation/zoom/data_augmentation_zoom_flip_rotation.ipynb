{
 "cells": [
  {
   "cell_type": "markdown",
   "metadata": {},
   "source": [
    "## Objectif\n",
    "Ce notebook a pour objectif d'explorer les techniques d'augmentation de données d'images en utilisant le zoom, le flip (inverser une image par rapport à un axe vertical) et la rotation pour améliorer la performance d'un modèle de classification des pneumonies à partir d'images de rayons X. Les étapes clés incluent l'augmentation des données, l'entraînement d'un modèle CNN et l'évaluation des performances du modèle.\n",
    "\n",
    "## Étapes de Démarche\n",
    "\n",
    "1. **Vérification de la Disponibilité du GPU**\n",
    "2. **Chargement et Préparation des Données**\n",
    "   - Chargement, redimensionnement, conversion en niveaux de gris, normalisation et restructuration des images.\n",
    "3. **Visualisation des Données**\n",
    "4. **Augmentation des Données**\n",
    "5. **Définition et Entraînement du Modèle CNN**\n",
    "6. **Évaluation du Modèle**\n",
    "7. **Visualisation des Performances**\n",
    "   - Matrice de confusion, rapport de classification et courbe ROC.\n",
    "8. **Heatmaps des Activations**\n",
    "\n",
    "## Interprétation et Résultats\n",
    "- **Courbes d'Apprentissage** : convergence du modèle et relation entre la perte et l'exactitude.\n",
    "- **Matrice de Confusion** : répartition des erreurs de classification.\n",
    "- **Rapport de Classification** : mesures détaillées comme la précision, le rappel et le score F1.\n",
    "- **Courbe ROC** : capacité du modèle à distinguer les classes à différents seuils.\n",
    "- **Heatmaps des Activations** : caractéristiques extraites par les couches du modèle.ion des données d'entrée."
   ]
  },
  {
   "cell_type": "code",
   "execution_count": 3,
   "metadata": {},
   "outputs": [],
   "source": [
    "import numpy as np\n",
    "import matplotlib.pyplot as plt\n",
    "import cv2\n",
    "import os\n",
    "import tensorflow as tf\n",
    "from tensorflow.keras.preprocessing.image import ImageDataGenerator\n",
    "from tensorflow.keras.models import Sequential\n",
    "from tensorflow.keras.layers import Conv2D, MaxPooling2D, Flatten, Dense, Dropout\n",
    "from tensorflow.keras.callbacks import ReduceLROnPlateau, EarlyStopping\n",
    "from sklearn.metrics import classification_report, confusion_matrix, roc_curve, auc\n",
    "import seaborn as sns"
   ]
  },
  {
   "cell_type": "markdown",
   "metadata": {},
   "source": [
    "Vérifie si des GPUs sont disponibles parce que si ils le sont alors ça accélère les calculs lors de l'entraînement du modèle, donc ça réduit le temps d'entaînement"
   ]
  },
  {
   "cell_type": "code",
   "execution_count": 5,
   "metadata": {},
   "outputs": [
    {
     "name": "stdout",
     "output_type": "stream",
     "text": [
      "Nb de GPU Disponible:  0\n"
     ]
    }
   ],
   "source": [
    "print(\"Nb de GPU Disponible: \", len(tf.config.experimental.list_physical_devices('GPU')))"
   ]
  },
  {
   "cell_type": "markdown",
   "metadata": {},
   "source": [
    "Définition des constantes"
   ]
  },
  {
   "cell_type": "code",
   "execution_count": 14,
   "metadata": {},
   "outputs": [],
   "source": [
    "img_size = 150\n",
    "data_dir1 = '../../../chest_xray/train/PNEUMONIA'\n",
    "data_dir2 = '../../../chest_xray/train/NORMAL'"
   ]
  },
  {
   "cell_type": "markdown",
   "metadata": {},
   "source": [
    "Charger et prétraiter les images à partir des 2 répertoires spécifiés. Cette fonction prend en entrée deux chemins de répertoire (data_dir1 et data_dir2) et retourne un tableau contenant les images redimensionnées et leurs étiquettes respectives."
   ]
  },
  {
   "cell_type": "code",
   "execution_count": 16,
   "metadata": {},
   "outputs": [],
   "source": [
    "def load_data(data_dir1, data_dir2):\n",
    "    data = [] # initialisation d'une liste qui va stocker les imgs et les étiquettes (PNEUMONIA ou NORMAL)\n",
    "    labels = ['PNEUMONIA', 'NORMAL'] # liste des labels possibles\n",
    "    for dir in [data_dir1, data_dir2]:\n",
    "        path = os.path.join(dir) # consutruction de la path\n",
    "        # on verifie si le chemin existe\n",
    "        if(not (os.path.exists(path))):\n",
    "            print(f\"Le répertoire n'existe pas\")\n",
    "            continue\n",
    "        label = os.path.basename(dir) # pour avoir le nom du répertoire qui correspond à l'étiquette\n",
    "        class_num = labels.index(label) # conversion du nom de la classe en numéro\n",
    "        # parcourir tous les fichiers du répertoire\n",
    "        for img in os.listdir(path):\n",
    "            try:\n",
    "                img_arr = cv2.imread(os.path.join(path, img), cv2.IMREAD_GRAYSCALE) # on lit l'image au niveau gros (car les images qu'on a sont a noir et blanc)\n",
    "                if img_arr is None:\n",
    "                    print(f\"Failed to read {img}. Skipping.\")\n",
    "                    continue\n",
    "                resized_arr = cv2.resize(img_arr, (img_size, img_size)) # redimensionnement de l'image\n",
    "                data.append([resized_arr, class_num]) # ajout de l'image redimensionné et son label\n",
    "            except Exception as e:\n",
    "                print(e)\n",
    "    return np.array(data, dtype=object) # on convertit la liste data en un tableau NumPy, juste parceque c'est plus efficace et ensuite on le retourne\n",
    "\n",
    "train_data = load_data(data_dir1, data_dir2)"
   ]
  },
  {
   "cell_type": "markdown",
   "metadata": {},
   "source": [
    "Visualisation du nombre d'images par classe"
   ]
  },
  {
   "cell_type": "code",
   "execution_count": 20,
   "metadata": {},
   "outputs": [
    {
     "data": {
      "image/png": "[encoded data removed]",
      "text/plain": [
       "<Figure size 640x480 with 1 Axes>"
      ]
     },
     "metadata": {},
     "output_type": "display_data"
    }
   ],
   "source": [
    "labels_count = [0, 0]\n",
    "# on parcourt chaque élément de train_data (les données chargées et pré-traitées)\n",
    "for item in train_data:\n",
    "    labels_count[item[1]] += 1 # chaque élément 'item' est une liste qui a une img et son label de classe\n",
    "\n",
    "# graphique\n",
    "plt.bar(['PNEUMONIA', 'NORMAL'], labels_count)\n",
    "plt.title('Number of images per class')\n",
    "plt.show()"
   ]
  },
  {
   "cell_type": "markdown",
   "metadata": {},
   "source": [
    "Prendre en entrée les données (features et labels) et les sépare en deux tableaux distincts : un pour les features (images) et un autre pour les labels (étiquettes de classe).\n",
    "\n",
    "- **Normaliser** : \n",
    "  - Chaque pixel d'une image a une valeur entre 0 et 255.\n",
    "  - Normaliser signifie diviser ces valeurs par 255 pour qu'elles soient entre 0 et 1.\n",
    "  - Cela facilite l'entraînement du modèle parceque les valeurs sont plus petites et plus uniformes. Cela peut améliorer les performances du modèle.\n",
    "\n",
    "- **Reshaper** :\n",
    "  - Les images sont des tableaux de nombres (valeurs des pixels).\n",
    "  - Reveut direignifie réorganiser ces tableaux pour qu'ils aient une forme spécifique.\n",
    "  - On veut que chaque image ait la forme (nombre d'images, 150, 150, 1).\n",
    "  - Cela indique qu'on a un certain nombre d'images, que chaque image a une taille de 150x150 pixels, et qu'elle est en niveaux de gris (1 canal de couleur)."
   ]
  },
  {
   "cell_type": "code",
   "execution_count": 23,
   "metadata": {},
   "outputs": [],
   "source": [
    "# separation des caracteristiques et des etiquettes\n",
    "def separate_features_labels(data):\n",
    "    features, labels = [], [] # init de 2 listes vides qui\n",
    "    for feature, label in data:\n",
    "        features.append(feature) # ajout du feature à la liste\n",
    "        labels.append(label) # ajout du label à la liste\n",
    "    return np.array(features), np.array(labels) # on convertit les listes features et labels en tableaux NumPy et on retourne ces tableaux\n",
    "\n",
    "x_train, y_train = separate_features_labels(train_data)\n",
    "\n",
    "# normalisation des donnees\n",
    "x_train = x_train / 255.0\n",
    "x_train = x_train.reshape(-1, img_size, img_size, 1)"
   ]
  },
  {
   "cell_type": "markdown",
   "metadata": {},
   "source": [
    "On vérifie si les tableaux des données x_train et y_train ne sont pas vide et si ils ne sont pas vide alors on crée un générateur d'images (datagen) pour augmenter les données de l'entraînement avec des décalages horizontaux et verticaux. Donc on a plus de diversité dans les données de l'entraînement."
   ]
  }
 ],
 "metadata": {
  "kernelspec": {
   "display_name": "Python 3 (ipykernel)",
   "language": "python",
   "name": "python3"
  },
  "language_info": {
   "codemirror_mode": {
    "name": "ipython",
    "version": 3
   },
   "file_extension": ".py",
   "mimetype": "text/x-python",
   "name": "python",
   "nbconvert_exporter": "python",
   "pygments_lexer": "ipython3",
   "version": "3.11.7"
  }
 },
 "nbformat": 4,
 "nbformat_minor": 4
}
