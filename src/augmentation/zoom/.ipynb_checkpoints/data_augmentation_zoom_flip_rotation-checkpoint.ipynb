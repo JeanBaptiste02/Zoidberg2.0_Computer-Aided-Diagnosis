{
 "cells": [
  {
   "cell_type": "markdown",
   "metadata": {},
   "source": [
    "## Objectif\n",
    "Ce notebook a pour objectif d'explorer les techniques d'augmentation de données d'images en utilisant le zoom, le flip (inverser une image par rapport à un axe vertical) et la rotation pour améliorer la performance d'un modèle de classification des pneumonies à partir d'images de rayons X. Les étapes clés incluent l'augmentation des données, l'entraînement d'un modèle CNN et l'évaluation des performances du modèle.\n",
    "\n",
    "## Étapes de Démarche\n",
    "\n",
    "1. **Vérification de la Disponibilité du GPU**\n",
    "2. **Chargement et Préparation des Données**\n",
    "   - Chargement, redimensionnement, conversion en niveaux de gris, normalisation et restructuration des images.\n",
    "3. **Visualisation des Données**\n",
    "4. **Augmentation des Données**\n",
    "5. **Définition et Entraînement du Modèle CNN**\n",
    "6. **Évaluation du Modèle**\n",
    "7. **Visualisation des Performances**\n",
    "   - Matrice de confusion, rapport de classification et courbe ROC.\n",
    "8. **Heatmaps des Activations**\n",
    "\n",
    "## Interprétation et Résultats\n",
    "- **Courbes d'Apprentissage** : convergence du modèle et relation entre la perte et l'exactitude.\n",
    "- **Matrice de Confusion** : répartition des erreurs de classification.\n",
    "- **Rapport de Classification** : mesures détaillées comme la précision, le rappel et le score F1.\n",
    "- **Courbe ROC** : capacité du modèle à distinguer les classes à différents seuils.\n",
    "- **Heatmaps des Activations** : caractéristiques extraites par les couches du modèle.ion des données d'entrée."
   ]
  },
  {
   "cell_type": "code",
   "execution_count": 3,
   "metadata": {},
   "outputs": [],
   "source": [
    "import numpy as np\n",
    "import matplotlib.pyplot as plt\n",
    "import cv2\n",
    "import os\n",
    "import tensorflow as tf\n",
    "from tensorflow.keras.preprocessing.image import ImageDataGenerator\n",
    "from tensorflow.keras.models import Sequential\n",
    "from tensorflow.keras.layers import Conv2D, MaxPooling2D, Flatten, Dense, Dropout\n",
    "from tensorflow.keras.callbacks import ReduceLROnPlateau, EarlyStopping\n",
    "from sklearn.metrics import classification_report, confusion_matrix, roc_curve, auc\n",
    "import seaborn as sns"
   ]
  },
  {
   "cell_type": "code",
   "execution_count": null,
   "metadata": {},
   "outputs": [],
   "source": [
    "Vérifie si des GPUs sont disponibles parce que si ils le sont alors ça accélère les calculs lors de l'entraînement du modèle, donc ça réduit le temps d'entaînement"
   ]
  },
  {
   "cell_type": "code",
   "execution_count": 5,
   "metadata": {},
   "outputs": [
    {
     "name": "stdout",
     "output_type": "stream",
     "text": [
      "Nb de GPU Disponible:  0\n"
     ]
    }
   ],
   "source": [
    "print(\"Nb de GPU Disponible: \", len(tf.config.experimental.list_physical_devices('GPU')))"
   ]
  },
  {
   "cell_type": "markdown",
   "metadata": {},
   "source": [
    "Définition des constantes"
   ]
  },
  {
   "cell_type": "code",
   "execution_count": 8,
   "metadata": {},
   "outputs": [],
   "source": [
    "img_size = 150\n",
    "data_dir1 = '../../../chest_xray/train/PNEUMONIA'\n",
    "data_dir2 = '../../../chest_xray/train/NORMAL'"
   ]
  },
  {
   "cell_type": "code",
   "execution_count": null,
   "metadata": {},
   "outputs": [],
   "source": [
    "def load_data(data_dir1, data_dir2):\n",
    "    data = [] # initialisation d'une liste qui va stocker les imgs et les étiquettes (PNEUMONIA ou NORMAL)\n",
    "    labels = ['PNEUMONIA', 'NORMAL'] # liste des labels possibles\n",
    "    for dir in [data_dir1, data_dir2]:\n",
    "        path = os.path.join(dir) # consutruction de la path\n",
    "        # on verifie si le chemin existe\n",
    "        if(not (os.path.exists(path))):\n",
    "            print(f\"Le répertoire n'existe pas\")\n",
    "            continue\n",
    "        label = os.path.basename(dir) # pour avoir le nom du répertoire qui correspond à l'étiquette\n",
    "        class_num = labels.index(label) "
   ]
  }
 ],
 "metadata": {
  "kernelspec": {
   "display_name": "Python 3 (ipykernel)",
   "language": "python",
   "name": "python3"
  },
  "language_info": {
   "codemirror_mode": {
    "name": "ipython",
    "version": 3
   },
   "file_extension": ".py",
   "mimetype": "text/x-python",
   "name": "python",
   "nbconvert_exporter": "python",
   "pygments_lexer": "ipython3",
   "version": "3.11.7"
  }
 },
 "nbformat": 4,
 "nbformat_minor": 4
}
