{
 "cells": [
  {
   "cell_type": "markdown",
   "metadata": {},
   "source": [
    "## Objectif\n",
    "Ce notebook vise à explorer les techniques d'augmentation de données d'images et à construire un modèle de classification pour identifier les pneumonies à partir d'images de rayons X. Les étapes clés incluent l'augmentation des données, l'entraînement d'un modèle CNN et l'évaluation des performances du modèle.\n",
    "\n",
    "## Étapes de Démarche\n",
    "\n",
    "1. **Vérification de la Disponibilité du GPU**\n",
    "2. **Chargement et Préparation des Données**\n",
    "   - Chargement, redimensionnement, conversion en niveaux de gris, normalisation et restructuration des images.\n",
    "3. **Visualisation des Données**\n",
    "4. **Augmentation des Données**\n",
    "5. **Définition et Entraînement du Modèle CNN**\n",
    "6. **Évaluation du Modèle**\n",
    "7. **Visualisation des Performances**\n",
    "   - Matrice de confusion, rapport de classification et courbe ROC.\n",
    "8. **Heatmaps des Activations**\n",
    "\n",
    "## Interprétation et Résultats\n",
    "- **Courbes d'Apprentissage** : convergence du modèle et relation entre la perte et l'exactitude.\n",
    "- **Matrice de Confusion** : répartition des erreurs de classification.\n",
    "- **Rapport de Classification** : mesures détaillées comme la précision, le rappel et le score F1.\n",
    "- **Courbe ROC** : capacité du modèle à distinguer les classes à différents seuils.\n",
    "- **Heatmaps des Activations** : caractéristiques extraites par les couches du modèle.ion des données d'entrée."
   ]
  },
  {
   "cell_type": "code",
   "execution_count": null,
   "metadata": {},
   "outputs": [],
   "source": [
    "import numpy as np\n",
    "import matplotlib.pyplot as plt\n",
    "import cv2\n",
    "import os\n",
    "import tensorflow as tf\n",
    "from tensorflow.keras.preprocessing.image import ImageDataGenerator\n",
    "from tensorflow.keras.models import Sequential\n",
    "from tensorflow.keras.layers import Conv2D, MaxPooling2D, Flatten, Dense, Dropout\n",
    "from tensorflow.keras.callbacks import ReduceLROnPlateau, EarlyStopping\n",
    "from sklearn.metrics import confusion_matrix, ConfusionMatrixDisplay, classification_report, roc_curve, auc\n",
    "import seaborn as sns"
   ]
  },
  {
   "cell_type": "markdown",
   "metadata": {},
   "source": [
    "Vérifie si des GPUs sont disponibles parce que si ils le sont alors ça accélère les calculs lors de l'entraînement du modèle, donc ça réduit le temps d'entaînement"
   ]
  },
  {
   "cell_type": "code",
   "execution_count": null,
   "metadata": {},
   "outputs": [],
   "source": [
    "print(\"Nombre de GPUs disponibles : \", len(tf.config.experimental.list_physical_devices('GPU')))"
   ]
  },
  {
   "cell_type": "markdown",
   "metadata": {},
   "source": [
    "Définition des constantes"
   ]
  },
  {
   "cell_type": "code",
   "execution_count": 35,
   "metadata": {},
   "outputs": [],
   "source": [
    "img_size = 150 #150x150 pixels\n",
    "data_dir1 = '../../../chest_xray/train/PNEUMONIA'\n",
    "data_dir2 = '../../../chest_xray/train/NORMAL'"
   ]
  },
  {
   "cell_type": "markdown",
   "metadata": {},
   "source": [
    "Charger et prétraiter les images à partir des 2 répertoires spécifiés. Cette fonction prend en entrée deux chemins de répertoire (data_dir1 et data_dir2) et retourne un tableau contenant les images redimensionnées et leurs étiquettes respectives."
   ]
  },
  {
   "cell_type": "code",
   "execution_count": 37,
   "metadata": {},
   "outputs": [
    {
     "name": "stderr",
     "output_type": "stream",
     "text": [
      "\n",
      "KeyboardInterrupt\n",
      "\n"
     ]
    }
   ],
   "source": [
    "def load_data(data_dir1, data_dir2):\n",
    "    data = []\n",
    "    labels = ['PNEUMONIA', 'NORMAL']\n",
    "    for dir in [data_dir1, data_dir2]:\n",
    "        path = os.path.join(dir)\n",
    "        if not os.path.exists(path):\n",
    "            print(f\"Le répertoire {path} n'existe pas.\")\n",
    "            continue\n",
    "        label = os.path.basename(dir)\n",
    "        class_num = labels.index(label)\n",
    "        for img in os.listdir(path):\n",
    "            try:\n",
    "                img_arr = cv2.imread(os.path.join(path, img), cv2.IMREAD_GRAYSCALE)\n",
    "                if img_arr is None:\n",
    "                    print(f\"Échec de lecture de {img}. Ignoré.\")\n",
    "                    continue\n",
    "                resized_arr = cv2.resize(img_arr, (img_size, img_size))\n",
    "                data.append([resized_arr, class_num])\n",
    "            except Exception as e:\n",
    "                print(e)\n",
    "    return np.array(data, dtype=object)\n",
    "\n",
    "train_data = load_data(data_dir1, data_dir2)"
   ]
  },
  {
   "cell_type": "markdown",
   "metadata": {},
   "source": [
    "Visualisation du nombre d'images par classe"
   ]
  },
  {
   "cell_type": "code",
   "execution_count": null,
   "metadata": {},
   "outputs": [],
   "source": [
    "labels_count = [0, 0]\n",
    "for item in train_data:\n",
    "    labels_count[item[1]] += 1\n",
    "\n",
    "plt.bar(['PNEUMONIA', 'NORMAL'], labels_count)\n",
    "plt.title('Nombre d\\'images par classe')\n",
    "plt.show()"
   ]
  },
  {
   "cell_type": "code",
   "execution_count": null,
   "metadata": {},
   "outputs": [],
   "source": []
  }
 ],
 "metadata": {
  "kernelspec": {
   "display_name": "Python 3 (ipykernel)",
   "language": "python",
   "name": "python3"
  },
  "language_info": {
   "codemirror_mode": {
    "name": "ipython",
    "version": 3
   },
   "file_extension": ".py",
   "mimetype": "text/x-python",
   "name": "python",
   "nbconvert_exporter": "python",
   "pygments_lexer": "ipython3",
   "version": "3.11.7"
  }
 },
 "nbformat": 4,
 "nbformat_minor": 4
}
