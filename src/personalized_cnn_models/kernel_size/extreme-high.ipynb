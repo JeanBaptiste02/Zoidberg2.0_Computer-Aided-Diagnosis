{
 "cells": [
  {
   "cell_type": "markdown",
   "id": "0bfe9ef3-7a96-4ed1-bab9-d5cff92fa7e3",
   "metadata": {},
   "source": [
    "# CNN Tuning - Taille du kernel - Extrême haut\n",
    "\n",
    "Objectif : tester un modèle de réseau de neurones convolutionnel (CNN) en modifiant la taille des kernels des couches de convolution. En utilisant des tailles de kernels plus grandes que celles d'un modèle de référence, nous visons à évaluer l'impact de cette modification sur la performance de classification d'images de rayons X, en particulier pour détecter la pneumonie.\n",
    "\n",
    "## Étapes Principales :\n",
    "\n",
    "1. **Vérification de la disponibilité du GPU** : Un message s'affiche pour indiquer si l'entraînement se fera sur un GPU ou un CPU.\n",
    "2. **Chargement des données** : Les images de rayons X sont chargées à partir des répertoires spécifiés pour les classes \"PNEUMONIA\" et \"NORMAL\".\n",
    "3. **Prétraitement des données** : Les images sont normalisées et préparées pour l'entraînement.\n",
    "4. **Visualisation de la distribution des données** : Un graphique montre le nombre d'images par classe.\n",
    "5. **Création du modèle** : Un modèle CNN avec des couches de convolution utilisant des kernels de grande taille est défini.\n",
    "6. **Validation croisée K-Fold** : Le modèle est entraîné et évalué sur plusieurs plis pour estimer sa précision.\n",
    "7. **Évaluation des performances** : Les précisions des différents plis sont affichées et une conclusion est tirée sur l'adéquation des grandes tailles de kernels.\n",
    "\n",
    "L'objectif final est de déterminer si les grandes tailles de kernels sont efficaces pour améliorer la précision de classification par rapport à un modèle de référence.\n"
   ]
  },
  {
   "cell_type": "code",
   "execution_count": 4,
   "id": "fb258ebe-a8fe-4f1d-9d69-8b4243848484",
   "metadata": {},
   "outputs": [],
   "source": [
    "import numpy as np\n",
    "import matplotlib.pyplot as plt\n",
    "import cv2\n",
    "import os\n",
    "import tensorflow as tf\n",
    "from tensorflow.keras.preprocessing.image import ImageDataGenerator\n",
    "from tensorflow.keras.models import Sequential\n",
    "from tensorflow.keras.layers import Conv2D, MaxPooling2D, Flatten, Dense, Dropout\n",
    "from tensorflow.keras.callbacks import EarlyStopping\n",
    "from sklearn.model_selection import KFold\n",
    "from sklearn.metrics import classification_report, confusion_matrix, roc_curve, auc\n",
    "import seaborn as sns"
   ]
  },
  {
   "cell_type": "code",
   "execution_count": 6,
   "id": "5402a8d6-15e5-4e6a-9495-2fe9d1002829",
   "metadata": {},
   "outputs": [],
   "source": [
    "img_size = 128\n",
    "batch_size = 64\n",
    "epochs = 7\n",
    "n_folds = 10\n",
    "data_dir1 = '../../../chest_xray/train/PNEUMONIA'\n",
    "data_dir2 = '../../../chest_xray/train/NORMAL'"
   ]
  },
  {
   "cell_type": "markdown",
   "id": "de55ac68-6311-4f9c-a18f-74585e38a4a1",
   "metadata": {},
   "source": [
    "Vérifie si un GPU est disponible pour l'entraînement de modèles en utilisant TensorFlow. Si un GPU est détecté, un message de confirmation est affiché. Sinon, un message indique que l'entraînement se fera sur le CPU."
   ]
  },
  {
   "cell_type": "code",
   "execution_count": 8,
   "id": "f935147f-5ed4-4734-9bd7-dc7304f0e7fe",
   "metadata": {},
   "outputs": [
    {
     "name": "stdout",
     "output_type": "stream",
     "text": [
      "Vérification GPU...\n",
      "Aucun GPU détecté, l'entraînement se fera sur le CPU.\n"
     ]
    }
   ],
   "source": [
    "def check_gpu():\n",
    "    print(\"Vérification GPU...\")\n",
    "    if tf.config.list_physical_devices('GPU'):\n",
    "        print(\"GPU détecté.\")\n",
    "    else:\n",
    "        print(\"Aucun GPU détecté, l'entraînement se fera sur le CPU.\")\n",
    "\n",
    "check_gpu()"
   ]
  },
  {
   "cell_type": "code",
   "execution_count": 10,
   "id": "b22ec88e-d552-4ea2-be78-538193836c6e",
   "metadata": {},
   "outputs": [
    {
     "name": "stdout",
     "output_type": "stream",
     "text": [
      "Chargement des données...\n",
      "Chargement des données terminé.\n"
     ]
    }
   ],
   "source": [
    "def load_data(data_dir1, data_dir2, limit=100):\n",
    "    print(\"Chargement des données...\")\n",
    "    data = []\n",
    "    labels = ['PNEUMONIA', 'NORMAL']\n",
    "    for dir in [data_dir1, data_dir2]:\n",
    "        path = os.path.join(dir)\n",
    "        if not os.path.exists(path):\n",
    "            print(f\"Le répertoire {path} n'existe pas\")\n",
    "            continue\n",
    "        label = os.path.basename(dir)\n",
    "        class_num = labels.index(label)\n",
    "        for i, img in enumerate(os.listdir(path)):\n",
    "            if i >= limit:\n",
    "                break\n",
    "            try:\n",
    "                img_arr = cv2.imread(os.path.join(path, img), cv2.IMREAD_GRAYSCALE)\n",
    "                if img_arr is None:\n",
    "                    print(f\"Échec de la lecture de {img}. Passage au suivant.\")\n",
    "                    continue\n",
    "                resized_arr = cv2.resize(img_arr, (img_size, img_size))\n",
    "                data.append([resized_arr, class_num])\n",
    "            except Exception as e:\n",
    "                print(e)\n",
    "    print(\"Chargement des données terminé.\")\n",
    "    return np.array(data, dtype=object)\n",
    "\n",
    "data = load_data(data_dir1, data_dir2, limit=100)"
   ]
  },
  {
   "cell_type": "code",
   "execution_count": 11,
   "id": "a7731654-3ddd-4d99-8466-dc94f98df7ba",
   "metadata": {},
   "outputs": [],
   "source": [
    "def preprocess_data(data):\n",
    "    X = np.array([img[0] for img in data]).astype('float32') / 255\n",
    "    y = np.array([img[1] for img in data])\n",
    "    return X.reshape(len(X), img_size, img_size, 1), y\n",
    "\n",
    "X_train, y_train = preprocess_data(data)"
   ]
  },
  {
   "cell_type": "code",
   "execution_count": 14,
   "id": "b9b2a2b9-1ca5-4160-965b-871bfc4ea9f0",
   "metadata": {},
   "outputs": [
    {
     "data": {
      "image/png": "[encoded data removed]",
      "text/plain": [
       "<Figure size 1000x500 with 1 Axes>"
      ]
     },
     "metadata": {},
     "output_type": "display_data"
    }
   ],
   "source": [
    "def visualize_data_distribution(y_train):\n",
    "    plt.figure(figsize=(10, 5))\n",
    "    plt.bar(['NORMAL', 'PNEUMONIA'], [len(y_train[y_train == 0]), len(y_train[y_train == 1])])\n",
    "    plt.title('Nombre d\\'images par classe dans l\\'ensemble d\\'entraînement')\n",
    "    plt.show()\n",
    "\n",
    "visualize_data_distribution(y_train)"
   ]
  },
  {
   "cell_type": "code",
   "execution_count": 16,
   "id": "41a33c06-24b0-4d2f-8319-afc0373fd7c2",
   "metadata": {},
   "outputs": [],
   "source": [
    "def create_large_kernel_model():\n",
    "    model = Sequential()\n",
    "    model.add(Conv2D(32, (16, 16), input_shape=(img_size, img_size, 1), activation=\"relu\"))\n",
    "    model.add(MaxPooling2D(pool_size=(2, 2)))\n",
    "    model.add(Conv2D(64, (16, 16), activation=\"relu\"))\n",
    "    model.add(MaxPooling2D(pool_size=(2, 2)))\n",
    "    model.add(Conv2D(128, (16, 16), activation=\"relu\"))\n",
    "    model.add(MaxPooling2D(pool_size=(2, 2)))\n",
    "    model.add(Flatten())\n",
    "    model.add(Dense(256, activation=\"relu\"))\n",
    "    model.add(Dropout(0.5))\n",
    "    model.add(Dense(1, activation=\"sigmoid\"))\n",
    "    model.compile(loss=\"binary_crossentropy\", optimizer=\"adam\", metrics=[\"accuracy\"])\n",
    "    return model"
   ]
  },
  {
   "cell_type": "code",
   "execution_count": 18,
   "id": "3f7cb2d6-0608-48a4-a3c6-4d8f83d48e37",
   "metadata": {},
   "outputs": [
    {
     "name": "stdout",
     "output_type": "stream",
     "text": [
      "Traitement du pli 1/10\n",
      "Epoch 1/7\n",
      "\u001b[1m3/3\u001b[0m \u001b[32m━━━━━━━━━━━━━━━━━━━━\u001b[0m\u001b[37m\u001b[0m \u001b[1m29s\u001b[0m 5s/step - accuracy: 0.5044 - loss: 1.1723 - val_accuracy: 0.5000 - val_loss: 0.6946\n",
      "Epoch 2/7\n",
      "\u001b[1m3/3\u001b[0m \u001b[32m━━━━━━━━━━━━━━━━━━━━\u001b[0m\u001b[37m\u001b[0m \u001b[1m14s\u001b[0m 5s/step - accuracy: 0.5475 - loss: 0.6956 - val_accuracy: 0.5000 - val_loss: 0.8242\n",
      "Epoch 3/7\n",
      "\u001b[1m3/3\u001b[0m \u001b[32m━━━━━━━━━━━━━━━━━━━━\u001b[0m\u001b[37m\u001b[0m \u001b[1m15s\u001b[0m 5s/step - accuracy: 0.5131 - loss: 0.7945 - val_accuracy: 0.5000 - val_loss: 0.6862\n",
      "Epoch 4/7\n",
      "\u001b[1m3/3\u001b[0m \u001b[32m━━━━━━━━━━━━━━━━━━━━\u001b[0m\u001b[37m\u001b[0m \u001b[1m14s\u001b[0m 5s/step - accuracy: 0.4799 - loss: 0.6999 - val_accuracy: 0.5000 - val_loss: 0.6845\n",
      "Epoch 5/7\n",
      "\u001b[1m3/3\u001b[0m \u001b[32m━━━━━━━━━━━━━━━━━━━━\u001b[0m\u001b[37m\u001b[0m \u001b[1m14s\u001b[0m 5s/step - accuracy: 0.4443 - loss: 0.6928 - val_accuracy: 0.5000 - val_loss: 0.6905\n",
      "Epoch 6/7\n",
      "\u001b[1m3/3\u001b[0m \u001b[32m━━━━━━━━━━━━━━━━━━━━\u001b[0m\u001b[37m\u001b[0m \u001b[1m16s\u001b[0m 5s/step - accuracy: 0.5408 - loss: 0.6887 - val_accuracy: 0.8500 - val_loss: 0.6755\n",
      "Epoch 7/7\n",
      "\u001b[1m3/3\u001b[0m \u001b[32m━━━━━━━━━━━━━━━━━━━━\u001b[0m\u001b[37m\u001b[0m \u001b[1m16s\u001b[0m 5s/step - accuracy: 0.6573 - loss: 0.6685 - val_accuracy: 0.8000 - val_loss: 0.6378\n",
      "Précision de validation pour le pli 1: 80.00%\n",
      "Traitement du pli 2/10\n",
      "Epoch 1/7\n",
      "\u001b[1m3/3\u001b[0m \u001b[32m━━━━━━━━━━━━━━━━━━━━\u001b[0m\u001b[37m\u001b[0m \u001b[1m23s\u001b[0m 6s/step - accuracy: 0.5064 - loss: 0.7440 - val_accuracy: 0.5000 - val_loss: 0.6934\n",
      "Epoch 2/7\n",
      "\u001b[1m3/3\u001b[0m \u001b[32m━━━━━━━━━━━━━━━━━━━━\u001b[0m\u001b[37m\u001b[0m \u001b[1m14s\u001b[0m 5s/step - accuracy: 0.4762 - loss: 0.6963 - val_accuracy: 0.5500 - val_loss: 0.6843\n",
      "Epoch 3/7\n",
      "\u001b[1m3/3\u001b[0m \u001b[32m━━━━━━━━━━━━━━━━━━━━\u001b[0m\u001b[37m\u001b[0m \u001b[1m14s\u001b[0m 5s/step - accuracy: 0.5734 - loss: 0.6765 - val_accuracy: 0.8500 - val_loss: 0.6861\n",
      "Epoch 4/7\n",
      "\u001b[1m3/3\u001b[0m \u001b[32m━━━━━━━━━━━━━━━━━━━━\u001b[0m\u001b[37m\u001b[0m \u001b[1m14s\u001b[0m 5s/step - accuracy: 0.5345 - loss: 0.6976 - val_accuracy: 0.5500 - val_loss: 0.6847\n",
      "Epoch 5/7\n",
      "\u001b[1m3/3\u001b[0m \u001b[32m━━━━━━━━━━━━━━━━━━━━\u001b[0m\u001b[37m\u001b[0m \u001b[1m14s\u001b[0m 5s/step - accuracy: 0.5186 - loss: 0.7023 - val_accuracy: 0.7000 - val_loss: 0.6908\n",
      "Précision de validation pour le pli 2: 55.00%\n",
      "Traitement du pli 3/10\n",
      "Epoch 1/7\n",
      "\u001b[1m3/3\u001b[0m \u001b[32m━━━━━━━━━━━━━━━━━━━━\u001b[0m\u001b[37m\u001b[0m \u001b[1m31s\u001b[0m 8s/step - accuracy: 0.4969 - loss: 0.7970 - val_accuracy: 0.5000 - val_loss: 0.6934\n",
      "Epoch 2/7\n",
      "\u001b[1m3/3\u001b[0m \u001b[32m━━━━━━━━━━━━━━━━━━━━\u001b[0m\u001b[37m\u001b[0m \u001b[1m18s\u001b[0m 6s/step - accuracy: 0.4965 - loss: 0.6977 - val_accuracy: 0.5000 - val_loss: 0.6950\n",
      "Epoch 3/7\n",
      "\u001b[1m3/3\u001b[0m \u001b[32m━━━━━━━━━━━━━━━━━━━━\u001b[0m\u001b[37m\u001b[0m \u001b[1m16s\u001b[0m 5s/step - accuracy: 0.4897 - loss: 0.7064 - val_accuracy: 0.8500 - val_loss: 0.6898\n",
      "Epoch 4/7\n",
      "\u001b[1m3/3\u001b[0m \u001b[32m━━━━━━━━━━━━━━━━━━━━\u001b[0m\u001b[37m\u001b[0m \u001b[1m16s\u001b[0m 6s/step - accuracy: 0.5447 - loss: 0.6883 - val_accuracy: 0.5000 - val_loss: 0.6915\n",
      "Epoch 5/7\n",
      "\u001b[1m3/3\u001b[0m \u001b[32m━━━━━━━━━━━━━━━━━━━━\u001b[0m\u001b[37m\u001b[0m \u001b[1m16s\u001b[0m 5s/step - accuracy: 0.5695 - loss: 0.6940 - val_accuracy: 0.6500 - val_loss: 0.6828\n",
      "Epoch 6/7\n",
      "\u001b[1m3/3\u001b[0m \u001b[32m━━━━━━━━━━━━━━━━━━━━\u001b[0m\u001b[37m\u001b[0m \u001b[1m20s\u001b[0m 7s/step - accuracy: 0.5868 - loss: 0.6794 - val_accuracy: 0.5000 - val_loss: 0.6870\n",
      "Epoch 7/7\n",
      "\u001b[1m3/3\u001b[0m \u001b[32m━━━━━━━━━━━━━━━━━━━━\u001b[0m\u001b[37m\u001b[0m \u001b[1m17s\u001b[0m 5s/step - accuracy: 0.5461 - loss: 0.7028 - val_accuracy: 0.8500 - val_loss: 0.6744\n",
      "Précision de validation pour le pli 3: 85.00%\n",
      "Traitement du pli 4/10\n",
      "Epoch 1/7\n",
      "\u001b[1m3/3\u001b[0m \u001b[32m━━━━━━━━━━━━━━━━━━━━\u001b[0m\u001b[37m\u001b[0m \u001b[1m29s\u001b[0m 7s/step - accuracy: 0.4885 - loss: 1.2717 - val_accuracy: 0.4500 - val_loss: 0.7005\n",
      "Epoch 2/7\n",
      "\u001b[1m3/3\u001b[0m \u001b[32m━━━━━━━━━━━━━━━━━━━━\u001b[0m\u001b[37m\u001b[0m \u001b[1m16s\u001b[0m 5s/step - accuracy: 0.5027 - loss: 0.7031 - val_accuracy: 0.5500 - val_loss: 0.6882\n",
      "Epoch 3/7\n",
      "\u001b[1m3/3\u001b[0m \u001b[32m━━━━━━━━━━━━━━━━━━━━\u001b[0m\u001b[37m\u001b[0m \u001b[1m16s\u001b[0m 6s/step - accuracy: 0.5192 - loss: 0.7022 - val_accuracy: 0.4500 - val_loss: 0.6960\n",
      "Epoch 4/7\n",
      "\u001b[1m3/3\u001b[0m \u001b[32m━━━━━━━━━━━━━━━━━━━━\u001b[0m\u001b[37m\u001b[0m \u001b[1m19s\u001b[0m 6s/step - accuracy: 0.4159 - loss: 0.7134 - val_accuracy: 0.5500 - val_loss: 0.6914\n",
      "Epoch 5/7\n",
      "\u001b[1m3/3\u001b[0m \u001b[32m━━━━━━━━━━━━━━━━━━━━\u001b[0m\u001b[37m\u001b[0m \u001b[1m18s\u001b[0m 6s/step - accuracy: 0.4354 - loss: 0.6929 - val_accuracy: 0.5500 - val_loss: 0.6927\n",
      "Précision de validation pour le pli 4: 55.00%\n",
      "Traitement du pli 5/10\n",
      "Epoch 1/7\n",
      "\u001b[1m3/3\u001b[0m \u001b[32m━━━━━━━━━━━━━━━━━━━━\u001b[0m\u001b[37m\u001b[0m \u001b[1m28s\u001b[0m 6s/step - accuracy: 0.4970 - loss: 1.1032 - val_accuracy: 0.4500 - val_loss: 0.6936\n",
      "Epoch 2/7\n",
      "\u001b[1m3/3\u001b[0m \u001b[32m━━━━━━━━━━━━━━━━━━━━\u001b[0m\u001b[37m\u001b[0m \u001b[1m15s\u001b[0m 6s/step - accuracy: 0.5366 - loss: 0.6906 - val_accuracy: 0.7000 - val_loss: 0.6921\n",
      "Epoch 3/7\n",
      "\u001b[1m3/3\u001b[0m \u001b[32m━━━━━━━━━━━━━━━━━━━━\u001b[0m\u001b[37m\u001b[0m \u001b[1m16s\u001b[0m 6s/step - accuracy: 0.5378 - loss: 0.6920 - val_accuracy: 0.4500 - val_loss: 0.7225\n",
      "Epoch 4/7\n",
      "\u001b[1m3/3\u001b[0m \u001b[32m━━━━━━━━━━━━━━━━━━━━\u001b[0m\u001b[37m\u001b[0m \u001b[1m15s\u001b[0m 5s/step - accuracy: 0.4895 - loss: 0.7073 - val_accuracy: 0.7500 - val_loss: 0.6909\n",
      "Epoch 5/7\n",
      "\u001b[1m3/3\u001b[0m \u001b[32m━━━━━━━━━━━━━━━━━━━━\u001b[0m\u001b[37m\u001b[0m \u001b[1m16s\u001b[0m 5s/step - accuracy: 0.5804 - loss: 0.6895 - val_accuracy: 0.4500 - val_loss: 0.7008\n",
      "Epoch 6/7\n",
      "\u001b[1m3/3\u001b[0m \u001b[32m━━━━━━━━━━━━━━━━━━━━\u001b[0m\u001b[37m\u001b[0m \u001b[1m14s\u001b[0m 5s/step - accuracy: 0.5588 - loss: 0.6811 - val_accuracy: 0.6000 - val_loss: 0.6697\n",
      "Epoch 7/7\n",
      "\u001b[1m3/3\u001b[0m \u001b[32m━━━━━━━━━━━━━━━━━━━━\u001b[0m\u001b[37m\u001b[0m \u001b[1m15s\u001b[0m 5s/step - accuracy: 0.5853 - loss: 0.6895 - val_accuracy: 0.6500 - val_loss: 0.6876\n",
      "Précision de validation pour le pli 5: 60.00%\n",
      "Traitement du pli 6/10\n",
      "Epoch 1/7\n",
      "\u001b[1m3/3\u001b[0m \u001b[32m━━━━━━━━━━━━━━━━━━━━\u001b[0m\u001b[37m\u001b[0m \u001b[1m21s\u001b[0m 5s/step - accuracy: 0.4697 - loss: 1.0010 - val_accuracy: 0.5500 - val_loss: 0.6917\n",
      "Epoch 2/7\n",
      "\u001b[1m3/3\u001b[0m \u001b[32m━━━━━━━━━━━━━━━━━━━━\u001b[0m\u001b[37m\u001b[0m \u001b[1m15s\u001b[0m 5s/step - accuracy: 0.5957 - loss: 0.6912 - val_accuracy: 0.4500 - val_loss: 0.6921\n",
      "Epoch 3/7\n",
      "\u001b[1m3/3\u001b[0m \u001b[32m━━━━━━━━━━━━━━━━━━━━\u001b[0m\u001b[37m\u001b[0m \u001b[1m14s\u001b[0m 4s/step - accuracy: 0.4887 - loss: 0.7181 - val_accuracy: 0.4500 - val_loss: 0.6931\n",
      "Epoch 4/7\n",
      "\u001b[1m3/3\u001b[0m \u001b[32m━━━━━━━━━━━━━━━━━━━━\u001b[0m\u001b[37m\u001b[0m \u001b[1m14s\u001b[0m 5s/step - accuracy: 0.5392 - loss: 0.6945 - val_accuracy: 0.4500 - val_loss: 0.6953\n",
      "Précision de validation pour le pli 6: 55.00%\n",
      "Traitement du pli 7/10\n",
      "Epoch 1/7\n",
      "\u001b[1m3/3\u001b[0m \u001b[32m━━━━━━━━━━━━━━━━━━━━\u001b[0m\u001b[37m\u001b[0m \u001b[1m23s\u001b[0m 5s/step - accuracy: 0.5292 - loss: 0.9928 - val_accuracy: 0.5000 - val_loss: 0.6938\n",
      "Epoch 2/7\n",
      "\u001b[1m3/3\u001b[0m \u001b[32m━━━━━━━━━━━━━━━━━━━━\u001b[0m\u001b[37m\u001b[0m \u001b[1m16s\u001b[0m 5s/step - accuracy: 0.5077 - loss: 0.6944 - val_accuracy: 0.5000 - val_loss: 0.6909\n",
      "Epoch 3/7\n",
      "\u001b[1m3/3\u001b[0m \u001b[32m━━━━━━━━━━━━━━━━━━━━\u001b[0m\u001b[37m\u001b[0m \u001b[1m16s\u001b[0m 5s/step - accuracy: 0.5448 - loss: 0.6929 - val_accuracy: 0.5000 - val_loss: 0.6920\n",
      "Epoch 4/7\n",
      "\u001b[1m3/3\u001b[0m \u001b[32m━━━━━━━━━━━━━━━━━━━━\u001b[0m\u001b[37m\u001b[0m \u001b[1m16s\u001b[0m 5s/step - accuracy: 0.5161 - loss: 0.6997 - val_accuracy: 0.7500 - val_loss: 0.6872\n",
      "Epoch 5/7\n",
      "\u001b[1m3/3\u001b[0m \u001b[32m━━━━━━━━━━━━━━━━━━━━\u001b[0m\u001b[37m\u001b[0m \u001b[1m15s\u001b[0m 5s/step - accuracy: 0.5898 - loss: 0.6885 - val_accuracy: 0.5000 - val_loss: 0.6729\n",
      "Epoch 6/7\n",
      "\u001b[1m3/3\u001b[0m \u001b[32m━━━━━━━━━━━━━━━━━━━━\u001b[0m\u001b[37m\u001b[0m \u001b[1m16s\u001b[0m 5s/step - accuracy: 0.6735 - loss: 0.6538 - val_accuracy: 0.7000 - val_loss: 0.6369\n",
      "Epoch 7/7\n",
      "\u001b[1m3/3\u001b[0m \u001b[32m━━━━━━━━━━━━━━━━━━━━\u001b[0m\u001b[37m\u001b[0m \u001b[1m15s\u001b[0m 5s/step - accuracy: 0.6982 - loss: 0.6000 - val_accuracy: 0.6000 - val_loss: 0.5786\n",
      "Précision de validation pour le pli 7: 60.00%\n",
      "Traitement du pli 8/10\n",
      "Epoch 1/7\n",
      "\u001b[1m3/3\u001b[0m \u001b[32m━━━━━━━━━━━━━━━━━━━━\u001b[0m\u001b[37m\u001b[0m \u001b[1m23s\u001b[0m 5s/step - accuracy: 0.5268 - loss: 0.7743 - val_accuracy: 0.6000 - val_loss: 0.6759\n",
      "Epoch 2/7\n",
      "\u001b[1m3/3\u001b[0m \u001b[32m━━━━━━━━━━━━━━━━━━━━\u001b[0m\u001b[37m\u001b[0m \u001b[1m16s\u001b[0m 5s/step - accuracy: 0.4783 - loss: 0.7038 - val_accuracy: 0.7500 - val_loss: 0.6894\n",
      "Epoch 3/7\n",
      "\u001b[1m3/3\u001b[0m \u001b[32m━━━━━━━━━━━━━━━━━━━━\u001b[0m\u001b[37m\u001b[0m \u001b[1m15s\u001b[0m 5s/step - accuracy: 0.4966 - loss: 0.6926 - val_accuracy: 0.7500 - val_loss: 0.6919\n",
      "Epoch 4/7\n",
      "\u001b[1m3/3\u001b[0m \u001b[32m━━━━━━━━━━━━━━━━━━━━\u001b[0m\u001b[37m\u001b[0m \u001b[1m14s\u001b[0m 5s/step - accuracy: 0.6253 - loss: 0.6891 - val_accuracy: 0.4000 - val_loss: 0.6885\n",
      "Précision de validation pour le pli 8: 60.00%\n",
      "Traitement du pli 9/10\n",
      "Epoch 1/7\n",
      "\u001b[1m3/3\u001b[0m \u001b[32m━━━━━━━━━━━━━━━━━━━━\u001b[0m\u001b[37m\u001b[0m \u001b[1m22s\u001b[0m 5s/step - accuracy: 0.4757 - loss: 0.8676 - val_accuracy: 0.4500 - val_loss: 0.6948\n",
      "Epoch 2/7\n",
      "\u001b[1m3/3\u001b[0m \u001b[32m━━━━━━━━━━━━━━━━━━━━\u001b[0m\u001b[37m\u001b[0m \u001b[1m14s\u001b[0m 5s/step - accuracy: 0.5036 - loss: 0.8067 - val_accuracy: 0.4500 - val_loss: 0.7539\n",
      "Epoch 3/7\n",
      "\u001b[1m3/3\u001b[0m \u001b[32m━━━━━━━━━━━━━━━━━━━━\u001b[0m\u001b[37m\u001b[0m \u001b[1m14s\u001b[0m 5s/step - accuracy: 0.4583 - loss: 0.7300 - val_accuracy: 0.5500 - val_loss: 0.6929\n",
      "Epoch 4/7\n",
      "\u001b[1m3/3\u001b[0m \u001b[32m━━━━━━━━━━━━━━━━━━━━\u001b[0m\u001b[37m\u001b[0m \u001b[1m15s\u001b[0m 5s/step - accuracy: 0.4925 - loss: 0.6934 - val_accuracy: 0.5500 - val_loss: 0.6921\n",
      "Epoch 5/7\n",
      "\u001b[1m3/3\u001b[0m \u001b[32m━━━━━━━━━━━━━━━━━━━━\u001b[0m\u001b[37m\u001b[0m \u001b[1m18s\u001b[0m 6s/step - accuracy: 0.5068 - loss: 0.6917 - val_accuracy: 0.5500 - val_loss: 0.6917\n",
      "Epoch 6/7\n",
      "\u001b[1m3/3\u001b[0m \u001b[32m━━━━━━━━━━━━━━━━━━━━\u001b[0m\u001b[37m\u001b[0m \u001b[1m15s\u001b[0m 5s/step - accuracy: 0.5451 - loss: 0.6916 - val_accuracy: 0.5500 - val_loss: 0.6861\n",
      "Epoch 7/7\n",
      "\u001b[1m3/3\u001b[0m \u001b[32m━━━━━━━━━━━━━━━━━━━━\u001b[0m\u001b[37m\u001b[0m \u001b[1m16s\u001b[0m 5s/step - accuracy: 0.5000 - loss: 0.6842 - val_accuracy: 0.5500 - val_loss: 0.6536\n",
      "Précision de validation pour le pli 9: 55.00%\n",
      "Traitement du pli 10/10\n",
      "Epoch 1/7\n",
      "\u001b[1m3/3\u001b[0m \u001b[32m━━━━━━━━━━━━━━━━━━━━\u001b[0m\u001b[37m\u001b[0m \u001b[1m22s\u001b[0m 5s/step - accuracy: 0.5295 - loss: 2.4724 - val_accuracy: 0.4500 - val_loss: 0.6946\n",
      "Epoch 2/7\n",
      "\u001b[1m3/3\u001b[0m \u001b[32m━━━━━━━━━━━━━━━━━━━━\u001b[0m\u001b[37m\u001b[0m \u001b[1m14s\u001b[0m 5s/step - accuracy: 0.5246 - loss: 0.6915 - val_accuracy: 0.4500 - val_loss: 0.6939\n",
      "Epoch 3/7\n",
      "\u001b[1m3/3\u001b[0m \u001b[32m━━━━━━━━━━━━━━━━━━━━\u001b[0m\u001b[37m\u001b[0m \u001b[1m14s\u001b[0m 5s/step - accuracy: 0.5181 - loss: 0.6929 - val_accuracy: 0.4500 - val_loss: 0.6939\n",
      "Epoch 4/7\n",
      "\u001b[1m3/3\u001b[0m \u001b[32m━━━━━━━━━━━━━━━━━━━━\u001b[0m\u001b[37m\u001b[0m \u001b[1m14s\u001b[0m 5s/step - accuracy: 0.5145 - loss: 0.6933 - val_accuracy: 0.4500 - val_loss: 0.6940\n",
      "Epoch 5/7\n",
      "\u001b[1m3/3\u001b[0m \u001b[32m━━━━━━━━━━━━━━━━━━━━\u001b[0m\u001b[37m\u001b[0m \u001b[1m14s\u001b[0m 5s/step - accuracy: 0.4959 - loss: 0.6932 - val_accuracy: 0.4500 - val_loss: 0.6928\n",
      "Epoch 6/7\n",
      "\u001b[1m3/3\u001b[0m \u001b[32m━━━━━━━━━━━━━━━━━━━━\u001b[0m\u001b[37m\u001b[0m \u001b[1m14s\u001b[0m 5s/step - accuracy: 0.5581 - loss: 0.6942 - val_accuracy: 0.4500 - val_loss: 0.6934\n",
      "Epoch 7/7\n",
      "\u001b[1m3/3\u001b[0m \u001b[32m━━━━━━━━━━━━━━━━━━━━\u001b[0m\u001b[37m\u001b[0m \u001b[1m16s\u001b[0m 5s/step - accuracy: 0.5019 - loss: 0.6935 - val_accuracy: 0.4500 - val_loss: 0.6936\n",
      "Précision de validation pour le pli 10: 45.00%\n"
     ]
    }
   ],
   "source": [
    "def k_fold_validation(X_train, y_train):\n",
    "    kf = KFold(n_splits=n_folds, shuffle=True, random_state=42)\n",
    "    fold_accuracies = []\n",
    "\n",
    "    for fold, (train_idx, val_idx) in enumerate(kf.split(X_train)):\n",
    "        X_train_fold, y_train_fold = X_train[train_idx], y_train[train_idx]\n",
    "        X_val_fold, y_val_fold = X_train[val_idx], y_train[val_idx]\n",
    "\n",
    "        print(f\"Traitement du pli {fold + 1}/{n_folds}\")\n",
    "        datagen = ImageDataGenerator()\n",
    "        train_generator = datagen.flow(x=X_train_fold, y=y_train_fold, batch_size=batch_size)\n",
    "        valid_generator = datagen.flow(x=X_val_fold, y=y_val_fold, batch_size=batch_size)\n",
    "\n",
    "        model = create_large_kernel_model()\n",
    "        early_stop = EarlyStopping(monitor='val_loss', patience=3, restore_best_weights=True)\n",
    "\n",
    "        history = model.fit(train_generator, validation_data=valid_generator, epochs=epochs, verbose=1, callbacks=[early_stop])\n",
    "        \n",
    "        # Évaluer le modèle pour ce pli\n",
    "        scores = model.evaluate(valid_generator, verbose=0)\n",
    "        print(f\"Précision de validation pour le pli {fold + 1}: {scores[1] * 100:.2f}%\")\n",
    "        fold_accuracies.append(scores[1])\n",
    "\n",
    "    return fold_accuracies\n",
    "\n",
    "fold_accuracies = k_fold_validation(X_train, y_train)"
   ]
  },
  {
   "cell_type": "code",
   "execution_count": 19,
   "id": "2431ea85-8ae1-4090-8114-dbe46ee28dcb",
   "metadata": {},
   "outputs": [
    {
     "name": "stdout",
     "output_type": "stream",
     "text": [
      "Précisions des plis : [0.800000011920929, 0.550000011920929, 0.8500000238418579, 0.550000011920929, 0.6000000238418579, 0.550000011920929, 0.6000000238418579, 0.6000000238418579, 0.550000011920929, 0.44999998807907104]\n",
      "Précision moyenne : 61.00%\n",
      "Conclusion : La précision est beaucoup plus faible que celle du modèle de référence, indiquant que les grandes tailles de kernels ne sont pas adaptées.\n"
     ]
    }
   ],
   "source": [
    "print(f\"Précisions des plis : {fold_accuracies}\")\n",
    "print(f\"Précision moyenne : {np.mean(fold_accuracies) * 100:.2f}%\")\n",
    "\n",
    "if np.mean(fold_accuracies) < 0.8:\n",
    "    print(\"Conclusion : La précision est beaucoup plus faible que celle du modèle de référence, indiquant que les grandes tailles de kernels ne sont pas adaptées.\")\n",
    "else:\n",
    "    print(\"La précision est acceptable, mais il est important de comparer avec le modèle de référence.\")"
   ]
  }
 ],
 "metadata": {
  "kernelspec": {
   "display_name": "Python 3 (ipykernel)",
   "language": "python",
   "name": "python3"
  },
  "language_info": {
   "codemirror_mode": {
    "name": "ipython",
    "version": 3
   },
   "file_extension": ".py",
   "mimetype": "text/x-python",
   "name": "python",
   "nbconvert_exporter": "python",
   "pygments_lexer": "ipython3",
   "version": "3.11.7"
  }
 },
 "nbformat": 4,
 "nbformat_minor": 5
}
