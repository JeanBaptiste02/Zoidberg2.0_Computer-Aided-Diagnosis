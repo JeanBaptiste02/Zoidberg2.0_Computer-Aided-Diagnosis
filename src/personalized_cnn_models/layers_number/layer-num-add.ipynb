{
 "cells": [
  {
   "cell_type": "code",
   "execution_count": 2,
   "id": "7785036c-17b5-406f-933f-55fadbf0882a",
   "metadata": {},
   "outputs": [
    {
     "name": "stdout",
     "output_type": "stream",
     "text": [
      "imported\n"
     ]
    }
   ],
   "source": [
    "import numpy as np\n",
    "import pandas as pd\n",
    "import matplotlib.pyplot as plt\n",
    "import seaborn as sns\n",
    "import os\n",
    "import tensorflow as tf\n",
    "from tensorflow.keras import layers, models\n",
    "from tensorflow.keras.preprocessing.image import ImageDataGenerator\n",
    "from sklearn.model_selection import KFold\n",
    "from sklearn.metrics import accuracy_score, roc_curve, auc, confusion_matrix, classification_report\n",
    "from tensorflow.keras.callbacks import EarlyStopping\n",
    "print(\"imported\")"
   ]
  },
  {
   "cell_type": "code",
   "execution_count": 4,
   "id": "f9162618-61c9-488a-9101-91216481e5c3",
   "metadata": {},
   "outputs": [
    {
     "name": "stdout",
     "output_type": "stream",
     "text": [
      "Num GPUs Available:  0\n"
     ]
    }
   ],
   "source": [
    "print(\"Num GPUs Available: \", len(tf.config.list_physical_devices('GPU')))"
   ]
  },
  {
   "cell_type": "code",
   "execution_count": 6,
   "id": "ae75be64-e80a-49f8-a7d9-eb0d1c939bbf",
   "metadata": {},
   "outputs": [
    {
     "name": "stdout",
     "output_type": "stream",
     "text": [
      "hypermarameters loaded...\n"
     ]
    }
   ],
   "source": [
    "IMG_HEIGHT, IMG_WIDTH = 128, 128\n",
    "BATCH_SIZE = 32\n",
    "EPOCHS = 10 \n",
    "FOLDS = 3   \n",
    "DATA_DIR = '../../../chest_xray/train'\n",
    "\n",
    "print(\"hypermarameters loaded...\")"
   ]
  },
  {
   "cell_type": "code",
   "execution_count": 8,
   "id": "8d657cfc-709e-4c6d-9515-8b41cfb7146f",
   "metadata": {},
   "outputs": [
    {
     "name": "stdout",
     "output_type": "stream",
     "text": [
      "Found 4173 images belonging to 2 classes.\n",
      "Found 1043 images belonging to 2 classes.\n"
     ]
    }
   ],
   "source": [
    "def load_data(data_dir):\n",
    "    datagen = ImageDataGenerator(rescale=1./255, validation_split=0.2)\n",
    "    \n",
    "    train_data = datagen.flow_from_directory(\n",
    "        data_dir,\n",
    "        target_size=(IMG_HEIGHT, IMG_WIDTH),\n",
    "        batch_size=BATCH_SIZE,\n",
    "        class_mode='binary',\n",
    "        subset='training'\n",
    "    )\n",
    "    \n",
    "    val_data = datagen.flow_from_directory(\n",
    "        data_dir,\n",
    "        target_size=(IMG_HEIGHT, IMG_WIDTH),\n",
    "        batch_size=BATCH_SIZE,\n",
    "        class_mode='binary',\n",
    "        subset='validation'\n",
    "    )\n",
    "    \n",
    "    return train_data, val_data\n",
    "\n",
    "train_data, val_data = load_data(DATA_DIR)"
   ]
  },
  {
   "cell_type": "code",
   "execution_count": 10,
   "id": "2ba7cbd9-0b80-4d48-b302-7c9b16bd188c",
   "metadata": {},
   "outputs": [],
   "source": [
    "# Étape 2: Création du modèle\n",
    "def create_model(num_conv_layers):\n",
    "    model = models.Sequential()\n",
    "\n",
    "    print(\"Création de la couche d'entrée...\")\n",
    "    model.add(layers.Input(shape=(IMG_HEIGHT, IMG_WIDTH, 3)))\n",
    "\n",
    "    print(f\"Ajout de {num_conv_layers} couches de convolution...\")\n",
    "    for i in range(num_conv_layers):\n",
    "        print(f\"Ajout de la couche de convolution {i+1}...\")\n",
    "        model.add(layers.Conv2D(16, (3, 3), activation='relu')) \n",
    "        model.add(layers.MaxPooling2D((2, 2)))\n",
    "\n",
    "    print(\"Ajout de la couche Flatten...\")\n",
    "    model.add(layers.Flatten())\n",
    "\n",
    "    print(\"Ajout de la couche Dense avec 128 unités...\")\n",
    "    model.add(layers.Dense(64, activation='relu'))\n",
    "\n",
    "    print(\"Ajout de la couche de sortie avec activation sigmoid...\")\n",
    "    model.add(layers.Dense(1, activation='sigmoid'))\n",
    "\n",
    "    print(\"Compilation du modèle...\")\n",
    "    model.compile(optimizer='adam', loss='binary_crossentropy', metrics=['accuracy'])\n",
    "\n",
    "    print(\"Modèle créé avec succès.\")\n",
    "    return model"
   ]
  },
  {
   "cell_type": "code",
   "execution_count": 12,
   "id": "3e885b2e-9733-4295-91e3-9204e80e84d7",
   "metadata": {},
   "outputs": [],
   "source": [
    "# Étape 3: Validation croisée K-Fold\n",
    "def k_fold_cross_validation(num_conv_layers, train_data, val_data):\n",
    "    kf = KFold(n_splits=FOLDS, shuffle=True)\n",
    "    accuracy_list = []\n",
    "    auc_list = []\n",
    "    all_histories = []  # Pour stocker les historiques d'entraînement\n",
    "\n",
    "    # Boucle à travers les différents plis\n",
    "    for train_index, val_index in kf.split(train_data):\n",
    "        # Créer un modèle\n",
    "        model = create_model(num_conv_layers)\n",
    "        \n",
    "        # Entraînement avec EarlyStopping pour éviter le sur-apprentissage\n",
    "        early_stopping = EarlyStopping(monitor='val_loss', patience=3)\n",
    "        history = model.fit(train_data, validation_data=val_data, epochs=EPOCHS, callbacks=[early_stopping], verbose=0)\n",
    "\n",
    "        # Stocker l'historique\n",
    "        all_histories.append(history.history)\n",
    "\n",
    "        # Évaluation\n",
    "        val_loss, val_accuracy = model.evaluate(val_data)\n",
    "        accuracy_list.append(val_accuracy)\n",
    "\n",
    "        # Calcul de la courbe ROC\n",
    "        y_true = val_data.classes\n",
    "        y_scores = model.predict(val_data).ravel()\n",
    "        fpr, tpr, _ = roc_curve(y_true, y_scores)\n",
    "        roc_auc = auc(fpr, tpr)\n",
    "        auc_list.append(roc_auc)\n",
    "\n",
    "    return np.mean(accuracy_list), np.mean(auc_list), all_histories"
   ]
  },
  {
   "cell_type": "code",
   "execution_count": 14,
   "id": "00551ace-d9d6-482b-b7be-fcf3e5a1b918",
   "metadata": {
    "scrolled": true
   },
   "outputs": [
    {
     "name": "stdout",
     "output_type": "stream",
     "text": [
      "Création de la couche d'entrée...\n",
      "Ajout de 2 couches de convolution...\n",
      "Ajout de la couche de convolution 1...\n",
      "Ajout de la couche de convolution 2...\n",
      "Ajout de la couche Flatten...\n",
      "Ajout de la couche Dense avec 128 unités...\n",
      "Ajout de la couche de sortie avec activation sigmoid...\n",
      "Compilation du modèle...\n",
      "Modèle créé avec succès.\n"
     ]
    },
    {
     "name": "stderr",
     "output_type": "stream",
     "text": [
      "C:\\Users\\vikne\\anaconda3\\Lib\\site-packages\\keras\\src\\trainers\\data_adapters\\py_dataset_adapter.py:122: UserWarning: Your `PyDataset` class should call `super().__init__(**kwargs)` in its constructor. `**kwargs` can include `workers`, `use_multiprocessing`, `max_queue_size`. Do not pass these arguments to `fit()`, as they will be ignored.\n",
      "  self._warn_if_super_not_called()\n"
     ]
    },
    {
     "name": "stdout",
     "output_type": "stream",
     "text": [
      "\u001b[1m33/33\u001b[0m \u001b[32m━━━━━━━━━━━━━━━━━━━━\u001b[0m\u001b[37m\u001b[0m \u001b[1m29s\u001b[0m 879ms/step - accuracy: 0.9699 - loss: 0.0814\n",
      "\u001b[1m33/33\u001b[0m \u001b[32m━━━━━━━━━━━━━━━━━━━━\u001b[0m\u001b[37m\u001b[0m \u001b[1m29s\u001b[0m 853ms/step\n",
      "Création de la couche d'entrée...\n",
      "Ajout de 2 couches de convolution...\n",
      "Ajout de la couche de convolution 1...\n",
      "Ajout de la couche de convolution 2...\n",
      "Ajout de la couche Flatten...\n",
      "Ajout de la couche Dense avec 128 unités...\n",
      "Ajout de la couche de sortie avec activation sigmoid...\n",
      "Compilation du modèle...\n",
      "Modèle créé avec succès.\n",
      "\u001b[1m33/33\u001b[0m \u001b[32m━━━━━━━━━━━━━━━━━━━━\u001b[0m\u001b[37m\u001b[0m \u001b[1m28s\u001b[0m 836ms/step - accuracy: 0.9512 - loss: 0.1246\n",
      "\u001b[1m33/33\u001b[0m \u001b[32m━━━━━━━━━━━━━━━━━━━━\u001b[0m\u001b[37m\u001b[0m \u001b[1m26s\u001b[0m 779ms/step\n",
      "Création de la couche d'entrée...\n",
      "Ajout de 2 couches de convolution...\n",
      "Ajout de la couche de convolution 1...\n",
      "Ajout de la couche de convolution 2...\n",
      "Ajout de la couche Flatten...\n",
      "Ajout de la couche Dense avec 128 unités...\n",
      "Ajout de la couche de sortie avec activation sigmoid...\n",
      "Compilation du modèle...\n",
      "Modèle créé avec succès.\n",
      "\u001b[1m33/33\u001b[0m \u001b[32m━━━━━━━━━━━━━━━━━━━━\u001b[0m\u001b[37m\u001b[0m \u001b[1m25s\u001b[0m 766ms/step - accuracy: 0.9341 - loss: 0.2183\n",
      "\u001b[1m33/33\u001b[0m \u001b[32m━━━━━━━━━━━━━━━━━━━━\u001b[0m\u001b[37m\u001b[0m \u001b[1m26s\u001b[0m 777ms/step\n",
      "Layers: 2, Accuracy: 0.9556, AUC: 0.5006\n",
      "Création de la couche d'entrée...\n",
      "Ajout de 3 couches de convolution...\n",
      "Ajout de la couche de convolution 1...\n",
      "Ajout de la couche de convolution 2...\n",
      "Ajout de la couche de convolution 3...\n",
      "Ajout de la couche Flatten...\n",
      "Ajout de la couche Dense avec 128 unités...\n",
      "Ajout de la couche de sortie avec activation sigmoid...\n",
      "Compilation du modèle...\n",
      "Modèle créé avec succès.\n",
      "\u001b[1m33/33\u001b[0m \u001b[32m━━━━━━━━━━━━━━━━━━━━\u001b[0m\u001b[37m\u001b[0m \u001b[1m26s\u001b[0m 786ms/step - accuracy: 0.9681 - loss: 0.1010\n",
      "\u001b[1m33/33\u001b[0m \u001b[32m━━━━━━━━━━━━━━━━━━━━\u001b[0m\u001b[37m\u001b[0m \u001b[1m26s\u001b[0m 760ms/step\n",
      "Création de la couche d'entrée...\n",
      "Ajout de 3 couches de convolution...\n",
      "Ajout de la couche de convolution 1...\n",
      "Ajout de la couche de convolution 2...\n",
      "Ajout de la couche de convolution 3...\n",
      "Ajout de la couche Flatten...\n",
      "Ajout de la couche Dense avec 128 unités...\n",
      "Ajout de la couche de sortie avec activation sigmoid...\n",
      "Compilation du modèle...\n",
      "Modèle créé avec succès.\n",
      "\u001b[1m33/33\u001b[0m \u001b[32m━━━━━━━━━━━━━━━━━━━━\u001b[0m\u001b[37m\u001b[0m \u001b[1m26s\u001b[0m 791ms/step - accuracy: 0.9609 - loss: 0.1006\n",
      "\u001b[1m33/33\u001b[0m \u001b[32m━━━━━━━━━━━━━━━━━━━━\u001b[0m\u001b[37m\u001b[0m \u001b[1m26s\u001b[0m 772ms/step\n",
      "Création de la couche d'entrée...\n",
      "Ajout de 3 couches de convolution...\n",
      "Ajout de la couche de convolution 1...\n",
      "Ajout de la couche de convolution 2...\n",
      "Ajout de la couche de convolution 3...\n",
      "Ajout de la couche Flatten...\n",
      "Ajout de la couche Dense avec 128 unités...\n",
      "Ajout de la couche de sortie avec activation sigmoid...\n",
      "Compilation du modèle...\n",
      "Modèle créé avec succès.\n",
      "\u001b[1m33/33\u001b[0m \u001b[32m━━━━━━━━━━━━━━━━━━━━\u001b[0m\u001b[37m\u001b[0m \u001b[1m16s\u001b[0m 473ms/step - accuracy: 0.9793 - loss: 0.0651\n",
      "\u001b[1m33/33\u001b[0m \u001b[32m━━━━━━━━━━━━━━━━━━━━\u001b[0m\u001b[37m\u001b[0m \u001b[1m17s\u001b[0m 495ms/step\n",
      "Layers: 3, Accuracy: 0.9664, AUC: 0.5044\n"
     ]
    }
   ],
   "source": [
    "# Étape 4: Test avec différents nombres de couches de convolution\n",
    "conv_layers_list = [2, 3]  # Reduced number of layers to test\n",
    "results = {}\n",
    "\n",
    "for num_layers in conv_layers_list:\n",
    "    accuracy, roc_auc, histories = k_fold_cross_validation(num_layers, train_data, val_data)\n",
    "    results[num_layers] = {'Accuracy': accuracy, 'AUC': roc_auc}\n",
    "    print(f'Layers: {num_layers}, Accuracy: {accuracy:.4f}, AUC: {roc_auc:.4f}')\n",
    "\n",
    "# Fonction pour afficher les résultats (graphes déplacés ici)\n",
    "def plot_results(histories, conv_layers_list):\n",
    "    for num_layers, history in zip(conv_layers_list, histories):\n",
    "        # Affichage des courbes de précision\n",
    "        plt.plot(history['accuracy'], label='Accuracy')\n",
    "        plt.plot(history['val_accuracy'], label='Validation Accuracy')\n",
    "        plt.title(f'Model Accuracy for {num_layers} Convolutional Layers')\n",
    "        plt.xlabel('Epoch')\n",
    "        plt.ylabel('Accuracy')\n",
    "        plt.legend(loc='upper left')\n",
    "        plt.grid()\n",
    "        plt.show()\n",
    "\n",
    "        # Affichage des courbes de perte\n",
    "        plt.plot(history['loss'], label='Loss')\n",
    "        plt.plot(history['val_loss'], label='Validation Loss')\n",
    "        plt.title(f'Model Loss for {num_layers} Convolutional Layers')\n",
    "        plt.xlabel('Epoch')\n",
    "        plt.ylabel('Loss')\n",
    "        plt.legend(loc='upper left')\n",
    "        plt.grid()\n",
    "        plt.show()"
   ]
  },
  {
   "cell_type": "code",
   "execution_count": 16,
   "id": "fa2842c2-0107-4ff5-bc07-9e14e0bc50af",
   "metadata": {},
   "outputs": [
    {
     "data": {
      "image/png": "[encoded data removed]",
      "text/plain": [
       "<Figure size 1000x600 with 1 Axes>"
      ]
     },
     "metadata": {},
     "output_type": "display_data"
    }
   ],
   "source": [
    "def conv_layer_nb_impact():\n",
    "    results_df = pd.DataFrame(results).T\n",
    "    results_df.plot(kind='bar', figsize=(10, 6))\n",
    "    plt.title('Impact of Number of Convolutional Layers on Model Performance')\n",
    "    plt.xlabel('Number of Convolutional Layers')\n",
    "    plt.ylabel('Performance Metrics')\n",
    "    plt.xticks(rotation=0)\n",
    "    plt.legend(loc='upper left')\n",
    "    plt.grid(axis='y')\n",
    "    plt.show()\n",
    "\n",
    "conv_layer_nb_impact()"
   ]
  },
  {
   "cell_type": "code",
   "execution_count": 19,
   "id": "c71cdaed-a7d8-456d-b5a6-be2a21f2d0d4",
   "metadata": {},
   "outputs": [
    {
     "name": "stdout",
     "output_type": "stream",
     "text": [
      "\n",
      "--- Résultats Finaux ---\n",
      "   Accuracy       AUC\n",
      "2  0.955577  0.500560\n",
      "3  0.966443  0.504351\n",
      "\n",
      "--- Détails pour 2 Couches de Convolution ---\n",
      "  Précision Moyenne: 0.9556\n",
      "  AUC Moyenne: 0.5006\n",
      "\n",
      "--- Détails pour 3 Couches de Convolution ---\n",
      "  Précision Moyenne: 0.9664\n",
      "  AUC Moyenne: 0.5044\n"
     ]
    },
    {
     "data": {
      "image/png": "[encoded data removed]",
      "text/plain": [
       "<Figure size 1000x600 with 1 Axes>"
      ]
     },
     "metadata": {},
     "output_type": "display_data"
    },
    {
     "ename": "KeyError",
     "evalue": "'accuracy'",
     "output_type": "error",
     "traceback": [
      "\u001b[1;31m---------------------------------------------------------------------------\u001b[0m",
      "\u001b[1;31mKeyError\u001b[0m                                  Traceback (most recent call last)",
      "Cell \u001b[1;32mIn[19], line 16\u001b[0m\n\u001b[0;32m     14\u001b[0m display_results(results)\n\u001b[0;32m     15\u001b[0m conv_layer_nb_impact()\n\u001b[1;32m---> 16\u001b[0m plot_results([history \u001b[38;5;28;01mfor\u001b[39;00m _, history \u001b[38;5;129;01min\u001b[39;00m results\u001b[38;5;241m.\u001b[39mitems()], conv_layers_list)\n",
      "Cell \u001b[1;32mIn[14], line 14\u001b[0m, in \u001b[0;36mplot_results\u001b[1;34m(histories, conv_layers_list)\u001b[0m\n\u001b[0;32m     11\u001b[0m \u001b[38;5;28;01mdef\u001b[39;00m \u001b[38;5;21mplot_results\u001b[39m(histories, conv_layers_list):\n\u001b[0;32m     12\u001b[0m     \u001b[38;5;28;01mfor\u001b[39;00m num_layers, history \u001b[38;5;129;01min\u001b[39;00m \u001b[38;5;28mzip\u001b[39m(conv_layers_list, histories):\n\u001b[0;32m     13\u001b[0m         \u001b[38;5;66;03m# Affichage des courbes de précision\u001b[39;00m\n\u001b[1;32m---> 14\u001b[0m         plt\u001b[38;5;241m.\u001b[39mplot(history[\u001b[38;5;124m'\u001b[39m\u001b[38;5;124maccuracy\u001b[39m\u001b[38;5;124m'\u001b[39m], label\u001b[38;5;241m=\u001b[39m\u001b[38;5;124m'\u001b[39m\u001b[38;5;124mAccuracy\u001b[39m\u001b[38;5;124m'\u001b[39m)\n\u001b[0;32m     15\u001b[0m         plt\u001b[38;5;241m.\u001b[39mplot(history[\u001b[38;5;124m'\u001b[39m\u001b[38;5;124mval_accuracy\u001b[39m\u001b[38;5;124m'\u001b[39m], label\u001b[38;5;241m=\u001b[39m\u001b[38;5;124m'\u001b[39m\u001b[38;5;124mValidation Accuracy\u001b[39m\u001b[38;5;124m'\u001b[39m)\n\u001b[0;32m     16\u001b[0m         plt\u001b[38;5;241m.\u001b[39mtitle(\u001b[38;5;124mf\u001b[39m\u001b[38;5;124m'\u001b[39m\u001b[38;5;124mModel Accuracy for \u001b[39m\u001b[38;5;132;01m{\u001b[39;00mnum_layers\u001b[38;5;132;01m}\u001b[39;00m\u001b[38;5;124m Convolutional Layers\u001b[39m\u001b[38;5;124m'\u001b[39m)\n",
      "\u001b[1;31mKeyError\u001b[0m: 'accuracy'"
     ]
    }
   ],
   "source": [
    "# Fonction pour afficher les résultats en texte\n",
    "def display_results(results):\n",
    "    results_df = pd.DataFrame(results).T\n",
    "    print(\"\\n--- Résultats Finaux ---\")\n",
    "    print(results_df)\n",
    "\n",
    "    # Détails supplémentaires pour chaque nombre de couches\n",
    "    for num_layers, metrics in results.items():\n",
    "        print(f\"\\n--- Détails pour {num_layers} Couches de Convolution ---\")\n",
    "        print(f\"  Précision Moyenne: {metrics['Accuracy']:.4f}\")\n",
    "        print(f\"  AUC Moyenne: {metrics['AUC']:.4f}\")\n",
    "\n",
    "# Appel des fonctions pour visualiser les résultats\n",
    "display_results(results)\n",
    "conv_layer_nb_impact()\n",
    "plot_results([history for _, history in results.items()], conv_layers_list)"
   ]
  }
 ],
 "metadata": {
  "kernelspec": {
   "display_name": "base",
   "language": "python",
   "name": "python3"
  },
  "language_info": {
   "codemirror_mode": {
    "name": "ipython",
    "version": 3
   },
   "file_extension": ".py",
   "mimetype": "text/x-python",
   "name": "python",
   "nbconvert_exporter": "python",
   "pygments_lexer": "ipython3",
   "version": "3.12.7"
  }
 },
 "nbformat": 4,
 "nbformat_minor": 5
}
